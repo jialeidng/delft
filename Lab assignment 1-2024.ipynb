{
 "cells": [
  {
   "cell_type": "markdown",
   "metadata": {},
   "source": [
    "\n",
    "[<img src=\"https://raw.githubusercontent.com/mbakker7/exploratory_computing_with_python/master/tudelft_logo.png\" width=\"200\" align='right'>](https://www.tudelft.nl/citg/over-faculteit/afdelingen/geoscience-remote-sensing/staff/scientific-staff/dr-stef-lhermitte)\n",
    "\n",
    "\n",
    "# Python Environment Lab Assignment \n",
    "*Date: Sep. 4th, 2024*\n",
    "\n",
    "*Created by Yanan Xin (yanan.xin at tudelft.nl)*\n",
    "\n",
    "Part of the exercise is based on class materials by Panchamy Krishnakumari. \n",
    "\n",
    "In this course you will use several libraries that you need to install and are listed below. The setup for installing these packages in your local computer conda distribution is included in brightspace as well as below. \n",
    "\n",
    "*In case of technical installation problems, the cloud-based Google Colab online jupyter notebooks is an alternative (https://colab.google/). But, we highly recommend setting up your own local environment and working with visual studio code as this makes collaboration easier.*"
   ]
  },
  {
   "cell_type": "markdown",
   "metadata": {},
   "source": [
    "# Introduction"
   ]
  },
  {
   "cell_type": "markdown",
   "metadata": {},
   "source": [
    "## Required packages for the courses"
   ]
  },
  {
   "cell_type": "markdown",
   "metadata": {},
   "source": [
    "The packages used in this course are:\n",
    "\n",
    "- [copy](https://docs.python.org/3/library/copy.html): a Python package to make shallow and deep copy of Python objects.\n",
    "- [random](https://docs.python.org/3/library/random.html): a Python package for random number generation\n",
    "- [datetime](https://docs.python.org/3/library/datetime.html): a Python package to manipulate dates and times\n",
    "- [math](https://docs.python.org/3/library/math.html): a Python package for mathematical functions\n",
    "\n",
    "- [numpy](https://numpy.org): a Python package for scientific computing\n",
    "- [json](https://docs.python.org/3/library/json.html): a Python package to encode and decode JSON format\n",
    "- [pandas](https://pandas.pydata.org): a Python package for data analysis and manipulation\n",
    "- [geopandas](https://geopandas.org/en/stable/): a Python package to make working with geospatial data in python easier. GeoPandas extends the datatypes used by pandas to allow spatial operations on geometric types.\n",
    "\n",
    "- [matplotlib](https://matplotlib.org): a Python package for creating static, animated and interactive visualisations\n",
    "- [seaborn](https://seaborn.pydata.org): a Python package for statistical data visualisation\n",
    "- [plotly.express](https://plotly.com/python/plotly-express/): a Python package for interactive charts and maps. Plotly Express is a built-in part of the plotly library.\n",
    "- [folium](http://python-visualization.github.io/folium/): a Python package for visualising and maniplating geospatial data.\n",
    "\n",
    "- [scipy](https://scipy.org): a Python package for fundamental algorithms for scientific computing\n",
    "- [scikit-learn](https://scikit-learn.org/stable/): a Python package for general machine learning algorithms and predictive data analysis"
   ]
  },
  {
   "cell_type": "markdown",
   "metadata": {},
   "source": [
    "## Install Anaconda in your local computer"
   ]
  },
  {
   "cell_type": "markdown",
   "metadata": {},
   "source": [
    "Following the instruction on the website (https://docs.anaconda.com/anaconda/install/) to install Anaconda on your local computer. "
   ]
  },
  {
   "cell_type": "markdown",
   "metadata": {},
   "source": [
    "## Setting up your own python environment"
   ]
  },
  {
   "cell_type": "markdown",
   "metadata": {},
   "source": [
    "To install the packages on your local computer, follow the instructions below:\n",
    "\n",
    "- For windows, first launch your conda prompt. If you don't know how to launch the conda prompt in Windows check [here](https://docs.anaconda.com/anaconda/install/verify-install/#conda). Once the conda prompt is launched, you should run the following commands in this prompt:\n",
    "\n",
    "- For Mac/Linux you should open your terminal and the you can directly run the following commands in the terminal:\n",
    "\n",
    "Create a new virtual environment named TIL6022:\n",
    "\n",
    "`conda create --name TIL6022`\n",
    "\n",
    "Subsequently, you need to active that newly created environment using the following command:\n",
    "\n",
    "`conda activate TIL6022`\n",
    "\n",
    "Within this newly created environment, you can first install necessary libraries using a requirements.txt file:\n",
    "\n",
    "`conda install --force-reinstall -y -q --name TIL6022 -c conda-forge --file requirements.txt`\n",
    "\n",
    "Once you succeeded in installing these packages, you can run the notebook in TIL6022 environment. \n",
    "\n",
    "First, navigate to the folder where you stored the jupyter notebook using the following command line:\n",
    "\n",
    "`cd /replace_this_with_your_jupyter_notebook_folder_path`\n",
    "\n",
    "Once you are in the folder, you can start the jupyter notebook by tying the command line:\n",
    "\n",
    "`jupyter notebook`\n",
    "\n",
    "Once this is done, these packages can be imported as normal packages and you should be able to run the code in the rest of this notebook without major errors. \n"
   ]
  },
  {
   "cell_type": "markdown",
   "metadata": {},
   "source": [
    "# Setting up your VS Code environment"
   ]
  },
  {
   "cell_type": "markdown",
   "metadata": {},
   "source": [
    "Download VS Code here (https://code.visualstudio.com/download) and follow the instructions to install the software on your computer. \n",
    "\n",
    "To select the TIL6022 virtual environment for your VS Code, follow the instruction here: https://code.visualstudio.com/docs/python/environments#_select-and-activate-an-environment\n",
    "\n",
    "You can also create a virtual environment directly in VS Code, see the instructions here:\n",
    "https://code.visualstudio.com/docs/python/environments#_creating-environments\n",
    "\n",
    "After you installed the Jupyter python package in your conda virtual environment, you can also work with jupyter notebook inside VS Code. In VS Code, create a Jupyter Notebook by running the **Create: New Jupyter Notebook** command from the Command Palette (under the View tab) or by creating a new .ipynb file in your workspace. More information, see here:\n",
    "https://code.visualstudio.com/docs/datascience/jupyter-notebooks\n",
    "\n",
    "### Install auto-formatter in VS Code ###\n",
    "\n",
    "Instead of memorizing all the PEP8 rules, wouldn't it be nice if your IDE helped you automatically format the code based on the PEP8 style guide? Fortunately, there are tools to help us do that. In the marketplace of VS Code, you can choose extensions to install. Let's try to install the autoformatter called Black Formatter and autopep8. \n",
    "\n",
    "Open the **Extensions** view by clicking on the Extensions icon in the Activity Bar on the side of VS Code or the using the command **View: Extensions command**. \n",
    "\n",
    "Search _Black Formatter_ by Microsoft and click install. You can also check the Usage instruction on the page. \n",
    "\n",
    "Similarly, search _autopep8_ by Microsoft and click install. Check the Usage instruction on the page. \n",
    "\n",
    "Now, if you want to format your code automatically, all you need to do is right click on a python file and choose **Format Document With...** or **Format Document**. "
   ]
  },
  {
   "cell_type": "markdown",
   "metadata": {},
   "source": [
    "## The Zen of Python"
   ]
  },
  {
   "cell_type": "code",
   "execution_count": 1,
   "metadata": {},
   "outputs": [
    {
     "name": "stdout",
     "output_type": "stream",
     "text": [
      "The Zen of Python, by Tim Peters\n",
      "\n",
      "Beautiful is better than ugly.\n",
      "Explicit is better than implicit.\n",
      "Simple is better than complex.\n",
      "Complex is better than complicated.\n",
      "Flat is better than nested.\n",
      "Sparse is better than dense.\n",
      "Readability counts.\n",
      "Special cases aren't special enough to break the rules.\n",
      "Although practicality beats purity.\n",
      "Errors should never pass silently.\n",
      "Unless explicitly silenced.\n",
      "In the face of ambiguity, refuse the temptation to guess.\n",
      "There should be one-- and preferably only one --obvious way to do it.\n",
      "Although that way may not be obvious at first unless you're Dutch.\n",
      "Now is better than never.\n",
      "Although never is often better than *right* now.\n",
      "If the implementation is hard to explain, it's a bad idea.\n",
      "If the implementation is easy to explain, it may be a good idea.\n",
      "Namespaces are one honking great idea -- let's do more of those!\n"
     ]
    }
   ],
   "source": [
    "import this"
   ]
  },
  {
   "cell_type": "markdown",
   "metadata": {},
   "source": [
    "# Part I - Verifying the installation"
   ]
  },
  {
   "cell_type": "code",
   "execution_count": null,
   "metadata": {},
   "outputs": [],
   "source": [
    "import copy\n",
    "import random\n",
    "import datetime\n",
    "import math\n",
    "import numpy\n",
    "import json\n",
    "import pandas\n",
    "import geopandas\n",
    "import matplotlib.pyplot as plt\n",
    "import seaborn\n",
    "import plotly.express\n",
    "import folium #folium needs conda-forge\n",
    "import scipy\n",
    "import sklearn\n",
    "\n",
    "print('All libraries are installed correctly')"
   ]
  },
  {
   "cell_type": "markdown",
   "metadata": {},
   "source": [
    "# Part II - Coding Assignments\n",
    "\n",
    "There are several places in the Python code that violate the Python standards and PEP8 coding style, please \n",
    "\n",
    "- Identify these issues and write the correct code in the Answer cell below. \n",
    "- Run your code and leave the output of your answer for the assignment evaluation. "
   ]
  },
  {
   "cell_type": "markdown",
   "metadata": {},
   "source": [
    "## Q1: "
   ]
  },
  {
   "cell_type": "markdown",
   "metadata": {},
   "source": [
    "```python\n",
    "\n",
    "def Greet_Users(name)\n",
    "print(\"Hello,\", Name)\n",
    "    \n",
    "Greet_Users(\"David\")\n",
    "```"
   ]
  },
  {
   "cell_type": "markdown",
   "metadata": {},
   "source": [
    "## Q1 Answer (please write the corrected code below):"
   ]
  },
  {
   "cell_type": "code",
   "execution_count": null,
   "metadata": {},
   "outputs": [],
   "source": []
  },
  {
   "cell_type": "markdown",
   "metadata": {},
   "source": [
    "## Q2:"
   ]
  },
  {
   "cell_type": "markdown",
   "metadata": {},
   "source": [
    "```python\n",
    "\n",
    "num = 3;\n",
    "\n",
    "if num > 0:\n",
    "    print(\"It is a positive number.\")\n",
    "    if num%2 == 0:\n",
    "    print(\"It is an even number.')\n",
    "```"
   ]
  },
  {
   "cell_type": "markdown",
   "metadata": {},
   "source": [
    "## Q2 Answer (please write the corrected code below):\n"
   ]
  },
  {
   "cell_type": "code",
   "execution_count": null,
   "metadata": {},
   "outputs": [],
   "source": []
  },
  {
   "cell_type": "markdown",
   "metadata": {},
   "source": [
    "## Q3: \n",
    "\n",
    "Note: change the code and do not change the comment. "
   ]
  },
  {
   "cell_type": "markdown",
   "metadata": {},
   "source": [
    "```python\n",
    "\n",
    "todo_list = [\"homework\", \"grocery\", \"laundry\"]\n",
    "time = 10\n",
    "\n",
    "if time < 12:\n",
    "    print(todo_list [ 1 ])  # do homework if time is before 12\n",
    "```"
   ]
  },
  {
   "cell_type": "markdown",
   "metadata": {},
   "source": [
    "## Q3 Answer (please write the corrected code below):"
   ]
  },
  {
   "cell_type": "code",
   "execution_count": null,
   "metadata": {},
   "outputs": [],
   "source": []
  },
  {
   "cell_type": "markdown",
   "metadata": {},
   "source": [
    "## BONUS: Add a Google Style docstring for the following function and print it in the output.\n",
    "\n",
    "Hint: more information about the function docstrings(see: https://realpython.com/documenting-python-code/#docstring-types) and Google style docstring(see: https://github.com/google/styleguide/blob/gh-pages/pyguide.md#s3.8.1-comments-in-doc-strings)\n",
    "\n",
    "\n",
    "```python\n",
    "\n",
    "def multiply_integers(num_one, num_two):\n",
    "    result = num_one * num_two\n",
    "    return result\n",
    "```"
   ]
  },
  {
   "cell_type": "markdown",
   "metadata": {},
   "source": [
    "## BONUS Question Answer:"
   ]
  },
  {
   "cell_type": "code",
   "execution_count": null,
   "metadata": {},
   "outputs": [],
   "source": []
  },
  {
   "cell_type": "markdown",
   "metadata": {},
   "source": [
    "# Submission\n",
    "\n",
    "\n",
    "Run all the cells and download the notebook as both a Notebook(.ipynb) and a HTML(.html) file and submit **both files** through Brightspace. "
   ]
  }
 ],
 "metadata": {
  "kernelspec": {
   "display_name": "Python 3 (ipykernel)",
   "language": "python",
   "name": "python3"
  },
  "language_info": {
   "codemirror_mode": {
    "name": "ipython",
    "version": 3
   },
   "file_extension": ".py",
   "mimetype": "text/x-python",
   "name": "python",
   "nbconvert_exporter": "python",
   "pygments_lexer": "ipython3",
   "version": "3.12.5"
  },
  "vscode": {
   "interpreter": {
    "hash": "31f2aee4e71d21fbe5cf8b01ff0e069b9275f58929596ceb00d14d90e3e16cd6"
   }
  }
 },
 "nbformat": 4,
 "nbformat_minor": 2
}
